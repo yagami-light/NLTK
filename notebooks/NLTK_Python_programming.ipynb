{
 "cells": [
  {
   "cell_type": "raw",
   "metadata": {},
   "source": []
  },
  {
   "cell_type": "code",
   "execution_count": 4,
   "metadata": {},
   "outputs": [
    {
     "name": "stdout",
     "output_type": "stream",
     "text": [
      "['Hello There,How are yuu doing today ?', 'weather is good and python is osm.The sky is skyfall.you should not eat banana']\n",
      "['Hello', 'There', ',', 'How', 'are', 'yuu', 'doing', 'today', '?', 'weather', 'is', 'good', 'and', 'python', 'is', 'osm.The', 'sky', 'is', 'skyfall.you', 'should', 'not', 'eat', 'banana']\n",
      "Hello\n",
      "There\n",
      ",\n",
      "How\n",
      "are\n",
      "yuu\n",
      "doing\n",
      "today\n",
      "?\n",
      "weather\n",
      "is\n",
      "good\n",
      "and\n",
      "python\n",
      "is\n",
      "osm.The\n",
      "sky\n",
      "is\n",
      "skyfall.you\n",
      "should\n",
      "not\n",
      "eat\n",
      "banana\n"
     ]
    }
   ],
   "source": [
    "from nltk.tokenize import sent_tokenize,word_tokenize\n",
    "\n",
    "example_text=\"Hello There,How are yuu doing today ? weather is good and python is osm.The sky is skyfall.you should not eat banana\"\n",
    "\n",
    "print(sent_tokenize(example_text))\n",
    "\n",
    "print (word_tokenize(example_text))\n",
    "\n",
    "\n",
    "for i in word_tokenize(example_text):\n",
    "    print (i)"
   ]
  },
  {
   "cell_type": "code",
   "execution_count": 16,
   "metadata": {},
   "outputs": [
    {
     "name": "stdout",
     "output_type": "stream",
     "text": [
      "['example', 'show', 'stop', 'words', 'functionlity']\n"
     ]
    }
   ],
   "source": [
    "from nltk.corpus import stopwords\n",
    "from nltk.tokenize import word_tokenize\n",
    "\n",
    "exampl_stopword=\"this is an example  to show stop words functionlity\"\n",
    "stop_words=set(stopwords.words(\"english\"))\n",
    "\n",
    "#print(stop_words)\n",
    "      \n",
    "words_example=word_tokenize(exampl_stopword)\n",
    "      \n",
    "filtered_words=[]\n",
    "\n",
    "for w in words_example:\n",
    "    if w not in (stop_words):\n",
    "        filtered_words.append(w)\n",
    "\n",
    "#print(filtered_words)\n",
    "\n",
    "filtered_words1=[w for  w in words_example  if not w  in (stop_words)]\n",
    "\n",
    "print (filtered_words1)"
   ]
  },
  {
   "cell_type": "code",
   "execution_count": 21,
   "metadata": {},
   "outputs": [
    {
     "name": "stdout",
     "output_type": "stream",
     "text": [
      "it\n",
      "is\n",
      "veri\n",
      "import\n",
      "to\n",
      "be\n",
      "pythonli\n",
      "while\n",
      "you\n",
      "are\n",
      "pyhon\n",
      "with\n",
      "pyton\n",
      ".\n",
      "all\n",
      "python\n",
      "have\n",
      "python\n",
      "poorli\n",
      "at\n",
      "least\n",
      "onc\n"
     ]
    }
   ],
   "source": [
    "from nltk.stem import PorterStemmer\n",
    "from nltk.tokenize import word_tokenize\n",
    "\n",
    "ps=PorterStemmer()\n",
    "\n",
    "example_stem=[\"python\",\"pythoner\",\"pythoning\",\"pythoned\",\"pythonly\"\n",
    "             ]\n",
    "new_text=\"it is very important to be pythonly while you are pyhoning with pyton. All pythoner have pythoned poorly at least once\"\n",
    "\n",
    "words=word_tokenize(new_text)\n",
    "for w in words:\n",
    "    \n",
    "    print(ps.stem(w))\n",
    "\n"
   ]
  },
  {
   "cell_type": "code",
   "execution_count": 23,
   "metadata": {},
   "outputs": [
    {
     "name": "stdout",
     "output_type": "stream",
     "text": [
      "[nltk_data] Downloading package state_union to\n",
      "[nltk_data]     /home/ubuntu/nltk_data...\n",
      "[nltk_data]   Unzipping corpora/state_union.zip.\n"
     ]
    },
    {
     "data": {
      "text/plain": [
       "True"
      ]
     },
     "execution_count": 23,
     "metadata": {},
     "output_type": "execute_result"
    }
   ],
   "source": [
    "nltk.download('state_union')"
   ]
  },
  {
   "cell_type": "code",
   "execution_count": 38,
   "metadata": {},
   "outputs": [
    {
     "name": "stdout",
     "output_type": "stream",
     "text": [
      "no display name and no $DISPLAY environment variable\n"
     ]
    }
   ],
   "source": [
    "import nltk\n",
    "from nltk.corpus import state_union\n",
    "from nltk.tokenize import  PunktSentenceTokenizer\n",
    "train_text=state_union.raw(\"2005-GWBush.txt\")\n",
    "#%matplotlib inline\n",
    "sample_text=state_union.raw(\"2006-GWBush.txt\")\n",
    "\n",
    "custom_sent_tokenizer=PunktSentenceTokenizer(train_text)\n",
    "\n",
    "tokenized=custom_sent_tokenizer.tokenize(sample_text)\n",
    "\n",
    "\n",
    "\n",
    "def preprocess():\n",
    "    try:\n",
    "        for i in tokenized:\n",
    "            words=nltk.word_tokenize(i)\n",
    "            taggedd=nltk.pos_tag(words)\n",
    "            \n",
    "            chunk_gram=r\"chunk:{<RB.?>*<VB.?>*<NNP><NN>?}\"\n",
    "            fire_chunk_parser=nltk.RegexpParser(chunk_gram)\n",
    "            chunked=fire_chunk_parser.parse(taggedd)\n",
    "            chunked.draw()\n",
    "            \n",
    "            print(chunked)\n",
    "    except  Exception as e:\n",
    "        \n",
    "        print(str(e))\n",
    "        \n",
    "        \n",
    "preprocess()\n",
    "\n",
    "\n",
    "\n",
    "\n"
   ]
  }
 ],
 "metadata": {
  "kernelspec": {
   "display_name": "Python (myenv)",
   "language": "python",
   "name": "myenv"
  },
  "language_info": {
   "codemirror_mode": {
    "name": "ipython",
    "version": 2
   },
   "file_extension": ".py",
   "mimetype": "text/x-python",
   "name": "python",
   "nbconvert_exporter": "python",
   "pygments_lexer": "ipython2",
   "version": "2.7.12"
  }
 },
 "nbformat": 4,
 "nbformat_minor": 2
}
