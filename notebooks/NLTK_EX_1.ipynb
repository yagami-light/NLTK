{
 "cells": [
  {
   "cell_type": "markdown",
   "metadata": {},
   "source": [
    "Testing brown corpus\n"
   ]
  },
  {
   "cell_type": "code",
   "execution_count": 4,
   "metadata": {
    "collapsed": true
   },
   "outputs": [
    {
     "name": "stdout",
     "output_type": "stream",
     "text": [
      "[nltk_data] Downloading package brown to /home/ubuntu/nltk_data...\n",
      "[nltk_data]   Unzipping corpora/brown.zip.\n"
     ]
    },
    {
     "data": {
      "text/plain": [
       "True"
      ]
     },
     "execution_count": 4,
     "metadata": {},
     "output_type": "execute_result"
    }
   ],
   "source": [
    "import nltk\n",
    "nltk.download('brown')\n",
    "nltk.download('nps_chat')\n",
    "nltk.download('webtext')\n"
   ]
  },
  {
   "cell_type": "code",
   "execution_count": 16,
   "metadata": {},
   "outputs": [
    {
     "name": "stdout",
     "output_type": "stream",
     "text": [
      "[nltk_data] Downloading package tagsets to /home/ubuntu/nltk_data...\n",
      "[nltk_data]   Unzipping help/tagsets.zip.\n"
     ]
    },
    {
     "data": {
      "text/plain": [
       "True"
      ]
     },
     "execution_count": 16,
     "metadata": {},
     "output_type": "execute_result"
    }
   ],
   "source": [
    "nltk.download('tagsets')"
   ]
  },
  {
   "cell_type": "code",
   "execution_count": 48,
   "metadata": {},
   "outputs": [],
   "source": [
    "import sys\n",
    "sys.executable\n",
    "import numpy as np\n",
    "\n"
   ]
  },
  {
   "cell_type": "code",
   "execution_count": 7,
   "metadata": {},
   "outputs": [
    {
     "data": {
      "text/plain": [
       "[u'The',\n",
       " u'Fulton',\n",
       " u'County',\n",
       " u'Grand',\n",
       " u'Jury',\n",
       " u'said',\n",
       " u'Friday',\n",
       " u'an',\n",
       " u'investigation',\n",
       " u'of',\n",
       " u\"Atlanta's\",\n",
       " u'recent',\n",
       " u'primary',\n",
       " u'election',\n",
       " u'produced',\n",
       " u'``',\n",
       " u'no',\n",
       " u'evidence',\n",
       " u\"''\",\n",
       " u'that',\n",
       " u'any',\n",
       " u'irregularities',\n",
       " u'took',\n",
       " u'place',\n",
       " u'.',\n",
       " u'The',\n",
       " u'jury',\n",
       " u'further',\n",
       " u'said',\n",
       " u'in',\n",
       " u'term-end',\n",
       " u'presentments']"
      ]
     },
     "execution_count": 7,
     "metadata": {},
     "output_type": "execute_result"
    }
   ],
   "source": [
    "from nltk.corpus import brown\n",
    "\n",
    "brown.words()[0:32]"
   ]
  },
  {
   "cell_type": "code",
   "execution_count": 8,
   "metadata": {},
   "outputs": [
    {
     "data": {
      "text/plain": [
       "1161192"
      ]
     },
     "execution_count": 8,
     "metadata": {},
     "output_type": "execute_result"
    }
   ],
   "source": [
    "len(brown.words())"
   ]
  },
  {
   "cell_type": "code",
   "execution_count": 18,
   "metadata": {},
   "outputs": [
    {
     "name": "stdout",
     "output_type": "stream",
     "text": [
      "*** Introductory Examples for the NLTK Book ***\n",
      "Loading text1, ..., text9 and sent1, ..., sent9\n",
      "Type the name of the text or sentence to view it.\n",
      "Type: 'texts()' or 'sents()' to list the materials.\n",
      "text1: Moby Dick by Herman Melville 1851\n",
      "text2: Sense and Sensibility by Jane Austen 1811\n",
      "text3: The Book of Genesis\n",
      "text4: Inaugural Address Corpus\n",
      "text5: Chat Corpus\n",
      "text6: Monty Python and the Holy Grail\n",
      "text7: Wall Street Journal\n",
      "text8: Personals Corpus\n",
      "text9: The Man Who Was Thursday by G . K . Chesterton 1908\n"
     ]
    }
   ],
   "source": [
    "from nltk.book import *"
   ]
  },
  {
   "cell_type": "code",
   "execution_count": 23,
   "metadata": {},
   "outputs": [
    {
     "name": "stdout",
     "output_type": "stream",
     "text": [
      "text1: Moby Dick by Herman Melville 1851\n",
      "text2: Sense and Sensibility by Jane Austen 1811\n",
      "text3: The Book of Genesis\n",
      "text4: Inaugural Address Corpus\n",
      "text5: Chat Corpus\n",
      "text6: Monty Python and the Holy Grail\n",
      "text7: Wall Street Journal\n",
      "text8: Personals Corpus\n",
      "text9: The Man Who Was Thursday by G . K . Chesterton 1908\n",
      "sent1: Call me Ishmael .\n",
      "sent2: The family of Dashwood had long been settled in Sussex .\n",
      "sent3: In the beginning God created the heaven and the earth .\n",
      "sent4: Fellow - Citizens of the Senate and of the House of Representatives :\n",
      "sent5: I have a problem with people PMing me to lol JOIN\n",
      "sent6: SCENE 1 : [ wind ] [ clop clop clop ] KING ARTHUR : Whoa there !\n",
      "sent7: Pierre Vinken , 61 years old , will join the board as a nonexecutive director Nov. 29 .\n",
      "sent8: 25 SEXY MALE , seeks attrac older single lady , for discreet encounters .\n",
      "sent9: THE suburb of Saffron Park lay on the sunset side of London , as red and ragged as a cloud of sunset .\n"
     ]
    },
    {
     "data": {
      "text/plain": [
       "260819"
      ]
     },
     "execution_count": 23,
     "metadata": {},
     "output_type": "execute_result"
    }
   ],
   "source": [
    "texts()\n",
    "sents()\n",
    "dir(text1)\n",
    "len(text1)"
   ]
  },
  {
   "cell_type": "markdown",
   "metadata": {},
   "source": [
    " Sent Tokenize(sentence boundary detection, sentence segmentation), Word Tokenize and Pos Tagging:"
   ]
  },
  {
   "cell_type": "code",
   "execution_count": 24,
   "metadata": {},
   "outputs": [],
   "source": [
    "from nltk import sent_tokenize,word_tokenize,pos_tag\n",
    "\n",
    "text=\"this is the end.Hold my life.it is skyfall.come to the end.The Congress’ three-day plenary session commenced at the Constitution Club in New Delhi on Friday. The focus of the conclave is primarily to prepare for the 2019 Lok Sabha elections. The meet is being attended by Congress chief ministers, state Congress presidents and Congress legislature party leaders from all states. Former prime minister Manmohan Singh and former party president Sonia Gandhi are also present. His first since taking over the reins of the party, Rahul Gandhi is expected to deliver the inaugural address today.\""
   ]
  },
  {
   "cell_type": "code",
   "execution_count": 28,
   "metadata": {},
   "outputs": [
    {
     "data": {
      "text/plain": [
       "5"
      ]
     },
     "execution_count": 28,
     "metadata": {},
     "output_type": "execute_result"
    }
   ],
   "source": [
    "sent=sent_tokenize(text)\n",
    "text\n",
    "\n",
    "len(sent)"
   ]
  },
  {
   "cell_type": "code",
   "execution_count": 31,
   "metadata": {},
   "outputs": [
    {
     "data": {
      "text/plain": [
       "101"
      ]
     },
     "execution_count": 31,
     "metadata": {},
     "output_type": "execute_result"
    }
   ],
   "source": [
    "tokens=word_tokenize(text)\n",
    "#tokens\n",
    "len(tokens)"
   ]
  },
  {
   "cell_type": "code",
   "execution_count": 32,
   "metadata": {},
   "outputs": [
    {
     "data": {
      "text/plain": [
       "[('t', 'NN'),\n",
       " ('h', 'NN'),\n",
       " ('i', 'JJ'),\n",
       " ('s', 'VBP'),\n",
       " (' ', 'NN'),\n",
       " ('i', 'NN'),\n",
       " ('s', 'VBP'),\n",
       " (' ', 'JJ'),\n",
       " ('t', 'NN'),\n",
       " ('h', 'NN'),\n",
       " ('e', 'NN'),\n",
       " (' ', 'NNP'),\n",
       " ('e', 'NN'),\n",
       " ('n', 'RB'),\n",
       " ('d', 'NN'),\n",
       " ('.', '.'),\n",
       " ('H', 'NNP'),\n",
       " ('o', 'JJ'),\n",
       " ('l', 'NN'),\n",
       " ('d', 'NN'),\n",
       " (' ', 'NNP'),\n",
       " ('m', 'NN'),\n",
       " ('y', 'NN'),\n",
       " (' ', 'NNP'),\n",
       " ('l', 'NN'),\n",
       " ('i', 'NN'),\n",
       " ('f', 'VBP'),\n",
       " ('e', 'NN'),\n",
       " ('.', '.'),\n",
       " ('i', 'JJ'),\n",
       " ('t', 'VBP'),\n",
       " (' ', 'NN'),\n",
       " ('i', 'NN'),\n",
       " ('s', 'VBP'),\n",
       " (' ', 'NN'),\n",
       " ('s', 'NN'),\n",
       " ('k', 'NN'),\n",
       " ('y', 'NNP'),\n",
       " ('f', 'VBZ'),\n",
       " ('a', 'DT'),\n",
       " ('l', 'NN'),\n",
       " ('l', 'NN'),\n",
       " ('.', '.'),\n",
       " ('c', 'VB'),\n",
       " ('o', 'JJ'),\n",
       " ('m', 'NN'),\n",
       " ('e', 'NN'),\n",
       " (' ', 'NNP'),\n",
       " ('t', 'NN'),\n",
       " ('o', 'NN'),\n",
       " (' ', 'NNP'),\n",
       " ('t', 'NN'),\n",
       " ('h', 'NN'),\n",
       " ('e', 'NN'),\n",
       " (' ', 'NNP'),\n",
       " ('e', 'NN'),\n",
       " ('n', 'RB'),\n",
       " ('d', 'NN'),\n",
       " ('.', '.'),\n",
       " ('T', 'NNP'),\n",
       " ('h', 'NN'),\n",
       " ('e', 'NN'),\n",
       " (' ', 'NNP'),\n",
       " ('C', 'NNP'),\n",
       " ('o', 'MD'),\n",
       " ('n', 'VB'),\n",
       " ('g', 'JJ'),\n",
       " ('r', 'NN'),\n",
       " ('e', 'NN'),\n",
       " ('s', 'NN'),\n",
       " ('s', 'NN'),\n",
       " ('\\xe2', 'NNP'),\n",
       " ('\\x80', 'NNP'),\n",
       " ('\\x99', 'NNP'),\n",
       " (' ', 'NNP'),\n",
       " ('t', 'NN'),\n",
       " ('h', 'NN'),\n",
       " ('r', 'NN'),\n",
       " ('e', 'NN'),\n",
       " ('e', 'SYM'),\n",
       " ('-', ':'),\n",
       " ('d', 'NN'),\n",
       " ('a', 'DT'),\n",
       " ('y', 'NN'),\n",
       " (' ', 'NNP'),\n",
       " ('p', 'NN'),\n",
       " ('l', 'NN'),\n",
       " ('e', 'NN'),\n",
       " ('n', 'IN'),\n",
       " ('a', 'DT'),\n",
       " ('r', 'NN'),\n",
       " ('y', 'NN'),\n",
       " (' ', 'NNP'),\n",
       " ('s', 'NN'),\n",
       " ('e', 'NN'),\n",
       " ('s', 'VBD'),\n",
       " ('s', 'JJ'),\n",
       " ('i', 'NN'),\n",
       " ('o', 'VBP'),\n",
       " ('n', 'JJ'),\n",
       " (' ', 'NNP'),\n",
       " ('c', 'NN'),\n",
       " ('o', 'NN'),\n",
       " ('m', 'NN'),\n",
       " ('m', 'NN'),\n",
       " ('e', 'NN'),\n",
       " ('n', 'JJ'),\n",
       " ('c', 'NN'),\n",
       " ('e', 'NN'),\n",
       " ('d', 'NN'),\n",
       " (' ', 'VBZ'),\n",
       " ('a', 'DT'),\n",
       " ('t', 'NN'),\n",
       " (' ', 'NNP'),\n",
       " ('t', 'NN'),\n",
       " ('h', 'NN'),\n",
       " ('e', 'NN'),\n",
       " (' ', 'NNP'),\n",
       " ('C', 'NNP'),\n",
       " ('o', 'MD'),\n",
       " ('n', 'VB'),\n",
       " ('s', 'JJ'),\n",
       " ('t', 'NN'),\n",
       " ('i', 'NN'),\n",
       " ('t', 'VBP'),\n",
       " ('u', 'JJ'),\n",
       " ('t', 'NN'),\n",
       " ('i', 'NN'),\n",
       " ('o', 'VBP'),\n",
       " ('n', 'JJ'),\n",
       " (' ', 'NNP'),\n",
       " ('C', 'NNP'),\n",
       " ('l', 'NN'),\n",
       " ('u', 'NN'),\n",
       " ('b', 'IN'),\n",
       " (' ', 'NN'),\n",
       " ('i', 'NN'),\n",
       " ('n', 'VBP'),\n",
       " (' ', 'JJ'),\n",
       " ('N', 'NNP'),\n",
       " ('e', 'NN'),\n",
       " ('w', 'NN'),\n",
       " (' ', 'NNP'),\n",
       " ('D', 'NNP'),\n",
       " ('e', 'NN'),\n",
       " ('l', 'NN'),\n",
       " ('h', 'NN'),\n",
       " ('i', 'JJ'),\n",
       " (' ', 'NNP'),\n",
       " ('o', 'NN'),\n",
       " ('n', 'NN'),\n",
       " (' ', 'NNP'),\n",
       " ('F', 'NNP'),\n",
       " ('r', 'NN'),\n",
       " ('i', 'NN'),\n",
       " ('d', 'VBP'),\n",
       " ('a', 'DT'),\n",
       " ('y', 'NN'),\n",
       " ('.', '.'),\n",
       " (' ', 'CC'),\n",
       " ('T', 'NNP'),\n",
       " ('h', 'VBP'),\n",
       " ('e', 'JJ'),\n",
       " (' ', 'NNP'),\n",
       " ('f', 'NN'),\n",
       " ('o', 'NN'),\n",
       " ('c', 'NN'),\n",
       " ('u', 'JJ'),\n",
       " ('s', 'NN'),\n",
       " (' ', 'NNP'),\n",
       " ('o', 'VBZ'),\n",
       " ('f', 'JJ'),\n",
       " (' ', 'NNP'),\n",
       " ('t', 'NN'),\n",
       " ('h', 'NN'),\n",
       " ('e', 'NN'),\n",
       " (' ', 'NNP'),\n",
       " ('c', 'VBZ'),\n",
       " ('o', 'JJ'),\n",
       " ('n', 'JJ'),\n",
       " ('c', 'NN'),\n",
       " ('l', 'VBZ'),\n",
       " ('a', 'DT'),\n",
       " ('v', 'NN'),\n",
       " ('e', 'NN'),\n",
       " (' ', 'NN'),\n",
       " ('i', 'NN'),\n",
       " ('s', 'VBP'),\n",
       " (' ', 'NN'),\n",
       " ('p', 'NN'),\n",
       " ('r', 'NN'),\n",
       " ('i', 'NN'),\n",
       " ('m', 'VBP'),\n",
       " ('a', 'DT'),\n",
       " ('r', 'NN'),\n",
       " ('i', 'NN'),\n",
       " ('l', 'VBP'),\n",
       " ('y', 'NN'),\n",
       " (' ', 'NNP'),\n",
       " ('t', 'NN'),\n",
       " ('o', 'NN'),\n",
       " (' ', 'NNP'),\n",
       " ('p', 'NN'),\n",
       " ('r', 'NN'),\n",
       " ('e', 'NN'),\n",
       " ('p', 'VBZ'),\n",
       " ('a', 'DT'),\n",
       " ('r', 'NN'),\n",
       " ('e', 'NN'),\n",
       " (' ', 'NNP'),\n",
       " ('f', 'NN'),\n",
       " ('o', 'NN'),\n",
       " ('r', 'NN'),\n",
       " (' ', 'NNP'),\n",
       " ('t', 'NN'),\n",
       " ('h', 'NN'),\n",
       " ('e', 'NN'),\n",
       " (' ', 'VBD'),\n",
       " ('2', 'CD'),\n",
       " ('0', 'CD'),\n",
       " ('1', 'CD'),\n",
       " ('9', 'CD'),\n",
       " (' ', 'NN'),\n",
       " ('L', 'NNP'),\n",
       " ('o', 'VBZ'),\n",
       " ('k', 'FW'),\n",
       " (' ', 'NNP'),\n",
       " ('S', 'NNP'),\n",
       " ('a', 'DT'),\n",
       " ('b', 'NN'),\n",
       " ('h', 'NN'),\n",
       " ('a', 'DT'),\n",
       " (' ', 'JJ'),\n",
       " ('e', 'NN'),\n",
       " ('l', 'NN'),\n",
       " ('e', 'NN'),\n",
       " ('c', 'VBP'),\n",
       " ('t', 'NN'),\n",
       " ('i', 'NN'),\n",
       " ('o', 'VBP'),\n",
       " ('n', 'JJ'),\n",
       " ('s', 'NN'),\n",
       " ('.', '.'),\n",
       " (' ', 'CC'),\n",
       " ('T', 'NNP'),\n",
       " ('h', 'VBP'),\n",
       " ('e', 'JJ'),\n",
       " (' ', 'NNP'),\n",
       " ('m', 'NN'),\n",
       " ('e', 'NN'),\n",
       " ('e', 'NN'),\n",
       " ('t', 'IN'),\n",
       " (' ', 'NN'),\n",
       " ('i', 'NN'),\n",
       " ('s', 'VBP'),\n",
       " (' ', 'NN'),\n",
       " ('b', 'NN'),\n",
       " ('e', 'NN'),\n",
       " ('i', 'NN'),\n",
       " ('n', 'VBP'),\n",
       " ('g', 'NN'),\n",
       " (' ', 'VBP'),\n",
       " ('a', 'DT'),\n",
       " ('t', 'NN'),\n",
       " ('t', 'NN'),\n",
       " ('e', 'NN'),\n",
       " ('n', 'JJ'),\n",
       " ('d', 'NN'),\n",
       " ('e', 'NN'),\n",
       " ('d', 'NN'),\n",
       " (' ', 'NN'),\n",
       " ('b', 'NN'),\n",
       " ('y', 'NN'),\n",
       " (' ', 'NNP'),\n",
       " ('C', 'NNP'),\n",
       " ('o', 'MD'),\n",
       " ('n', 'VB'),\n",
       " ('g', 'JJ'),\n",
       " ('r', 'NN'),\n",
       " ('e', 'NN'),\n",
       " ('s', 'NN'),\n",
       " ('s', 'NN'),\n",
       " (' ', 'NNP'),\n",
       " ('c', 'VBZ'),\n",
       " ('h', 'NN'),\n",
       " ('i', 'JJ'),\n",
       " ('e', 'VBP'),\n",
       " ('f', 'JJ'),\n",
       " (' ', 'NNP'),\n",
       " ('m', 'NN'),\n",
       " ('i', 'NN'),\n",
       " ('n', 'VBP'),\n",
       " ('i', 'NN'),\n",
       " ('s', 'VBP'),\n",
       " ('t', 'NN'),\n",
       " ('e', 'NN'),\n",
       " ('r', 'NN'),\n",
       " ('s', 'NN'),\n",
       " (',', ','),\n",
       " (' ', 'NNP'),\n",
       " ('s', 'VBZ'),\n",
       " ('t', 'VB'),\n",
       " ('a', 'DT'),\n",
       " ('t', 'NN'),\n",
       " ('e', 'NN'),\n",
       " (' ', 'NNP'),\n",
       " ('C', 'NNP'),\n",
       " ('o', 'MD'),\n",
       " ('n', 'VB'),\n",
       " ('g', 'JJ'),\n",
       " ('r', 'NN'),\n",
       " ('e', 'NN'),\n",
       " ('s', 'NN'),\n",
       " ('s', 'NN'),\n",
       " (' ', 'NNP'),\n",
       " ('p', 'NN'),\n",
       " ('r', 'NN'),\n",
       " ('e', 'NN'),\n",
       " ('s', 'NN'),\n",
       " ('i', 'NN'),\n",
       " ('d', 'VBP'),\n",
       " ('e', 'NN'),\n",
       " ('n', 'JJ'),\n",
       " ('t', 'NN'),\n",
       " ('s', 'NN'),\n",
       " (' ', 'VBZ'),\n",
       " ('a', 'DT'),\n",
       " ('n', 'JJ'),\n",
       " ('d', 'NN'),\n",
       " (' ', 'NNP'),\n",
       " ('C', 'NNP'),\n",
       " ('o', 'MD'),\n",
       " ('n', 'VB'),\n",
       " ('g', 'JJ'),\n",
       " ('r', 'NN'),\n",
       " ('e', 'NN'),\n",
       " ('s', 'NN'),\n",
       " ('s', 'NN'),\n",
       " (' ', 'NNP'),\n",
       " ('l', 'NN'),\n",
       " ('e', 'NN'),\n",
       " ('g', 'NN'),\n",
       " ('i', 'NN'),\n",
       " ('s', 'VBP'),\n",
       " ('l', 'NN'),\n",
       " ('a', 'DT'),\n",
       " ('t', 'NN'),\n",
       " ('u', 'JJ'),\n",
       " ('r', 'NN'),\n",
       " ('e', 'NN'),\n",
       " (' ', 'NNP'),\n",
       " ('p', 'VBZ'),\n",
       " ('a', 'DT'),\n",
       " ('r', 'NN'),\n",
       " ('t', 'NN'),\n",
       " ('y', 'NN'),\n",
       " (' ', 'NNP'),\n",
       " ('l', 'NN'),\n",
       " ('e', 'VBZ'),\n",
       " ('a', 'DT'),\n",
       " ('d', 'NN'),\n",
       " ('e', 'NN'),\n",
       " ('r', 'NN'),\n",
       " ('s', 'NN'),\n",
       " (' ', 'NNP'),\n",
       " ('f', 'NN'),\n",
       " ('r', 'NN'),\n",
       " ('o', 'IN'),\n",
       " ('m', 'NN'),\n",
       " (' ', 'VBP'),\n",
       " ('a', 'DT'),\n",
       " ('l', 'NN'),\n",
       " ('l', 'NN'),\n",
       " (' ', 'NNP'),\n",
       " ('s', 'VBZ'),\n",
       " ('t', 'VB'),\n",
       " ('a', 'DT'),\n",
       " ('t', 'NN'),\n",
       " ('e', 'NN'),\n",
       " ('s', 'NN'),\n",
       " ('.', '.'),\n",
       " (' ', 'CC'),\n",
       " ('F', 'NNP'),\n",
       " ('o', 'VBP'),\n",
       " ('r', 'NN'),\n",
       " ('m', 'NN'),\n",
       " ('e', 'NN'),\n",
       " ('r', 'NN'),\n",
       " (' ', 'NNP'),\n",
       " ('p', 'NN'),\n",
       " ('r', 'NN'),\n",
       " ('i', 'NN'),\n",
       " ('m', 'VBP'),\n",
       " ('e', 'NN'),\n",
       " (' ', 'NNP'),\n",
       " ('m', 'NN'),\n",
       " ('i', 'NN'),\n",
       " ('n', 'VBP'),\n",
       " ('i', 'NN'),\n",
       " ('s', 'VBP'),\n",
       " ('t', 'NN'),\n",
       " ('e', 'NN'),\n",
       " ('r', 'NN'),\n",
       " (' ', 'NNP'),\n",
       " ('M', 'NNP'),\n",
       " ('a', 'DT'),\n",
       " ('n', 'JJ'),\n",
       " ('m', 'NN'),\n",
       " ('o', 'NN'),\n",
       " ('h', 'VBD'),\n",
       " ('a', 'DT'),\n",
       " ('n', 'JJ'),\n",
       " (' ', 'NN'),\n",
       " ('S', 'NNP'),\n",
       " ('i', 'NN'),\n",
       " ('n', 'VBP'),\n",
       " ('g', 'NN'),\n",
       " ('h', 'NN'),\n",
       " (' ', 'VBZ'),\n",
       " ('a', 'DT'),\n",
       " ('n', 'JJ'),\n",
       " ('d', 'NN'),\n",
       " (' ', 'NNP'),\n",
       " ('f', 'NN'),\n",
       " ('o', 'NN'),\n",
       " ('r', 'NN'),\n",
       " ('m', 'NN'),\n",
       " ('e', 'NN'),\n",
       " ('r', 'NN'),\n",
       " (' ', 'NNP'),\n",
       " ('p', 'VBZ'),\n",
       " ('a', 'DT'),\n",
       " ('r', 'NN'),\n",
       " ('t', 'NN'),\n",
       " ('y', 'NN'),\n",
       " (' ', 'NNP'),\n",
       " ('p', 'NN'),\n",
       " ('r', 'NN'),\n",
       " ('e', 'NN'),\n",
       " ('s', 'NN'),\n",
       " ('i', 'NN'),\n",
       " ('d', 'VBP'),\n",
       " ('e', 'NN'),\n",
       " ('n', 'JJ'),\n",
       " ('t', 'NN'),\n",
       " (' ', 'NNP'),\n",
       " ('S', 'NNP'),\n",
       " ('o', 'IN'),\n",
       " ('n', 'NN'),\n",
       " ('i', 'VBP'),\n",
       " ('a', 'DT'),\n",
       " (' ', 'NN'),\n",
       " ('G', 'NNP'),\n",
       " ('a', 'DT'),\n",
       " ('n', 'JJ'),\n",
       " ('d', 'NN'),\n",
       " ('h', 'NN'),\n",
       " ('i', 'NN'),\n",
       " (' ', 'VBP'),\n",
       " ('a', 'DT'),\n",
       " ('r', 'NN'),\n",
       " ('e', 'NN'),\n",
       " (' ', 'VBZ'),\n",
       " ('a', 'DT'),\n",
       " ('l', 'NN'),\n",
       " ('s', 'NN'),\n",
       " ('o', 'NN'),\n",
       " (' ', 'NNP'),\n",
       " ('p', 'NN'),\n",
       " ('r', 'NN'),\n",
       " ('e', 'NN'),\n",
       " ('s', 'NN'),\n",
       " ('e', 'NN'),\n",
       " ('n', 'JJ'),\n",
       " ('t', 'NN'),\n",
       " ('.', '.'),\n",
       " (' ', 'JJ'),\n",
       " ('H', 'NNP'),\n",
       " ('i', 'NN'),\n",
       " ('s', 'VBP'),\n",
       " (' ', 'IN'),\n",
       " ('f', 'NN'),\n",
       " ('i', 'NN'),\n",
       " ('r', 'VBP'),\n",
       " ('s', 'NN'),\n",
       " ('t', 'NN'),\n",
       " (' ', 'NNP'),\n",
       " ('s', 'NN'),\n",
       " ('i', 'NN'),\n",
       " ('n', 'VBP'),\n",
       " ('c', 'NN'),\n",
       " ('e', 'NN'),\n",
       " (' ', 'NNP'),\n",
       " ('t', 'VBZ'),\n",
       " ('a', 'DT'),\n",
       " ('k', 'NN'),\n",
       " ('i', 'NN'),\n",
       " ('n', 'VBP'),\n",
       " ('g', 'NN'),\n",
       " (' ', 'NNP'),\n",
       " ('o', 'VBZ'),\n",
       " ('v', 'FW'),\n",
       " ('e', 'FW'),\n",
       " ('r', 'NN'),\n",
       " (' ', 'NNP'),\n",
       " ('t', 'NN'),\n",
       " ('h', 'NN'),\n",
       " ('e', 'NN'),\n",
       " (' ', 'NNP'),\n",
       " ('r', 'NN'),\n",
       " ('e', 'NN'),\n",
       " ('i', 'NN'),\n",
       " ('n', 'VBP'),\n",
       " ('s', 'NN'),\n",
       " (' ', 'NNP'),\n",
       " ('o', 'VBZ'),\n",
       " ('f', 'JJ'),\n",
       " (' ', 'NNP'),\n",
       " ('t', 'NN'),\n",
       " ('h', 'NN'),\n",
       " ('e', 'NN'),\n",
       " (' ', 'NNP'),\n",
       " ('p', 'VBZ'),\n",
       " ('a', 'DT'),\n",
       " ('r', 'NN'),\n",
       " ('t', 'NN'),\n",
       " ('y', 'NN'),\n",
       " (',', ','),\n",
       " (' ', 'NNP'),\n",
       " ('R', 'NNP'),\n",
       " ('a', 'DT'),\n",
       " ('h', 'NN'),\n",
       " ('u', 'JJ'),\n",
       " ('l', 'NN'),\n",
       " (' ', 'NNP'),\n",
       " ('G', 'NNP'),\n",
       " ('a', 'DT'),\n",
       " ('n', 'JJ'),\n",
       " ('d', 'NN'),\n",
       " ('h', 'NN'),\n",
       " ('i', 'JJ'),\n",
       " (' ', 'VBP'),\n",
       " ('i', 'JJ'),\n",
       " ('s', 'VBP'),\n",
       " (' ', 'JJ'),\n",
       " ('e', 'NN'),\n",
       " ('x', 'NNP'),\n",
       " ('p', 'NN'),\n",
       " ('e', 'NN'),\n",
       " ('c', 'VBP'),\n",
       " ('t', 'NN'),\n",
       " ('e', 'NN'),\n",
       " ('d', 'NN'),\n",
       " (' ', 'NNP'),\n",
       " ('t', 'NN'),\n",
       " ('o', 'NN'),\n",
       " (' ', 'NNP'),\n",
       " ('d', 'NN'),\n",
       " ('e', 'NN'),\n",
       " ('l', 'NN'),\n",
       " ('i', 'NN'),\n",
       " ('v', 'VBP'),\n",
       " ('e', 'NN'),\n",
       " ('r', 'NN'),\n",
       " (' ', 'NNP'),\n",
       " ('t', 'NN'),\n",
       " ('h', 'NN'),\n",
       " ('e', 'NN'),\n",
       " (' ', 'NNP'),\n",
       " ('i', 'NN'),\n",
       " ('n', 'VBP'),\n",
       " ('a', 'DT'),\n",
       " ('u', 'JJ'),\n",
       " ('g', 'NN'),\n",
       " ('u', 'JJ'),\n",
       " ('r', 'NN'),\n",
       " ('a', 'DT'),\n",
       " ('l', 'NN'),\n",
       " (' ', 'VBZ'),\n",
       " ('a', 'DT'),\n",
       " ('d', 'NN'),\n",
       " ('d', 'NN'),\n",
       " ('r', 'NN'),\n",
       " ('e', 'NN'),\n",
       " ('s', 'NN'),\n",
       " ('s', 'NN'),\n",
       " (' ', 'NNP'),\n",
       " ('t', 'NN'),\n",
       " ('o', 'NN'),\n",
       " ('d', 'VBZ'),\n",
       " ('a', 'DT'),\n",
       " ('y', 'NN'),\n",
       " ('.', '.')]"
      ]
     },
     "execution_count": 32,
     "metadata": {},
     "output_type": "execute_result"
    }
   ],
   "source": [
    "tag_tokens=pos_tag(text)\n",
    "tag_tokens"
   ]
  },
  {
   "cell_type": "code",
   "execution_count": 37,
   "metadata": {},
   "outputs": [
    {
     "data": {
      "text/plain": [
       "['this is the end.Hold my life.it is skyfall.come to the end.The Congress\\xe2\\x80\\x99 three-day plenary session commenced at the Constitution Club in New Delhi on Friday.',\n",
       " 'The focus of the conclave is primarily to prepare for the 2019 Lok Sabha elections.',\n",
       " 'The meet is being attended by Congress chief ministers, state Congress presidents and Congress legislature party leaders from all states.',\n",
       " 'Former prime minister Manmohan Singh and former party president Sonia Gandhi are also present.',\n",
       " 'His first since taking over the reins of the party, Rahul Gandhi is expected to deliver the inaugural address today.']"
      ]
     },
     "execution_count": 37,
     "metadata": {},
     "output_type": "execute_result"
    }
   ],
   "source": [
    "import nltk.data\n",
    "tokenizer=nltk.data.load('tokenizers/punkt/english.pickle')\n",
    "tokenizer.tokenize(text)"
   ]
  },
  {
   "cell_type": "code",
   "execution_count": 2,
   "metadata": {},
   "outputs": [
    {
     "data": {
      "text/plain": [
       "['this', \"'s\", 'word']"
      ]
     },
     "execution_count": 2,
     "metadata": {},
     "output_type": "execute_result"
    }
   ],
   "source": [
    "from nltk.tokenize import word_tokenize\n",
    "word_tokenize(\"Hello Word\")\n",
    "word_tokenize(\"this 's word\")"
   ]
  },
  {
   "cell_type": "code",
   "execution_count": 5,
   "metadata": {},
   "outputs": [
    {
     "data": {
      "text/plain": [
       "['alaska', 'is', 'god']"
      ]
     },
     "execution_count": 5,
     "metadata": {},
     "output_type": "execute_result"
    }
   ],
   "source": [
    "#tokenizer example\n",
    "\n",
    "from nltk.tokenize import TreebankWordTokenizer\n",
    "\n",
    "tokenizer=TreebankWordTokenizer()\n",
    "tokenizer.tokenize(\"alaska is god\")"
   ]
  },
  {
   "cell_type": "code",
   "execution_count": 7,
   "metadata": {},
   "outputs": [
    {
     "data": {
      "text/plain": [
       "['this', \"'\", 's', 'god', 'of', 'war']"
      ]
     },
     "execution_count": 7,
     "metadata": {},
     "output_type": "execute_result"
    }
   ],
   "source": [
    "from nltk.tokenize import WordPunctTokenizer\n",
    "punc_tokenizer=WordPunctTokenizer()\n",
    "punc_tokenizer.tokenize(\"this's god of war\")\n"
   ]
  },
  {
   "cell_type": "code",
   "execution_count": 10,
   "metadata": {},
   "outputs": [
    {
     "data": {
      "text/plain": [
       "[('Data', 'NNS'),\n",
       " ('science', 'NN'),\n",
       " (':', ':'),\n",
       " ('world', 'NN'),\n",
       " ('of', 'IN'),\n",
       " ('losts', 'NNS'),\n",
       " ('of', 'IN'),\n",
       " ('opprotunity', 'NN')]"
      ]
     },
     "execution_count": 10,
     "metadata": {},
     "output_type": "execute_result"
    }
   ],
   "source": [
    "from nltk.tokenize import word_tokenize\n",
    "import nltk\n",
    "w_text=word_tokenize(\"Data science: world of losts of opprotunity\")\n",
    "w_text\n",
    "\n",
    "nltk.pos_tag(w_text)"
   ]
  },
  {
   "cell_type": "code",
   "execution_count": 17,
   "metadata": {},
   "outputs": [
    {
     "name": "stdout",
     "output_type": "stream",
     "text": [
      "NN: noun, common, singular or mass\n",
      "    common-carrier cabbage knuckle-duster Casino afghan shed thermostat\n",
      "    investment slide humour falloff slick wind hyena override subhumanity\n",
      "    machinist ...\n"
     ]
    }
   ],
   "source": [
    "nltk.help.upenn_tagset('NN')"
   ]
  },
  {
   "cell_type": "code",
   "execution_count": 26,
   "metadata": {},
   "outputs": [
    {
     "data": {
      "text/plain": [
       "0.8756313403842003"
      ]
     },
     "execution_count": 26,
     "metadata": {},
     "output_type": "execute_result"
    }
   ],
   "source": [
    "# train model tnt\n",
    "\n",
    "from nltk.corpus import treebank\n",
    "len(treebank.tagged_sents())\n",
    "train_data=treebank.tagged_sents()[:3000]\n",
    "test_data=treebank.tagged_sents()[3000:]\n",
    "#train_data[0]\n",
    "\n",
    "#test_data[0]\n",
    "\n",
    "from nltk.tag import tnt\n",
    "tnt_pos_tagger=tnt.TnT()\n",
    "tnt_pos_tagger.train(train_data)\n",
    "tnt_pos_tagger.evaluate(test_data)"
   ]
  },
  {
   "cell_type": "code",
   "execution_count": 27,
   "metadata": {},
   "outputs": [],
   "source": [
    "import pickle\n",
    "f = open('tnt_treebank_pos_tagger.pickle', 'w')\n",
    "pickle.dump(tnt_pos_tagger, f)"
   ]
  },
  {
   "cell_type": "code",
   "execution_count": 30,
   "metadata": {},
   "outputs": [
    {
     "data": {
      "text/plain": [
       "[('this', u'DT'),\n",
       " ('is', u'VBZ'),\n",
       " ('a', u'DT'),\n",
       " ('tnt', 'Unk'),\n",
       " ('treebank', 'Unk'),\n",
       " ('tnt', 'Unk'),\n",
       " ('tagger', 'Unk')]"
      ]
     },
     "execution_count": 30,
     "metadata": {},
     "output_type": "execute_result"
    }
   ],
   "source": [
    "tnt_pos_tagger.tag(nltk.word_tokenize(\"this is a tnt treebank tnt tagger\"))"
   ]
  },
  {
   "cell_type": "code",
   "execution_count": 42,
   "metadata": {},
   "outputs": [
    {
     "data": {
      "text/plain": [
       "u'dog'"
      ]
     },
     "execution_count": 42,
     "metadata": {},
     "output_type": "execute_result"
    }
   ],
   "source": [
    "from nltk.stem.porter import PorterStemmer\n",
    "\n",
    "porterStemmer=PorterStemmer()\n",
    "\n",
    "porterStemmer.stem('maximum')\n",
    "porterStemmer.stem('presumably')\n",
    "porterStemmer.stem('dogs')"
   ]
  },
  {
   "cell_type": "code",
   "execution_count": 47,
   "metadata": {},
   "outputs": [
    {
     "data": {
      "text/plain": [
       "u'abacus'"
      ]
     },
     "execution_count": 47,
     "metadata": {},
     "output_type": "execute_result"
    }
   ],
   "source": [
    "#lemmitizer\n",
    "\n",
    "from nltk.stem import WordNetLemmatizer\n",
    "\n",
    "wordnet_lemmatizer=WordNetLemmatizer()\n",
    "\n",
    "\n",
    "wordnet_lemmatizer.lemmatize('aardwolves')\n",
    "\n",
    "`\n",
    "wordnet_lemmatizer.lemmatize('abaci')\n"
   ]
  },
  {
   "cell_type": "code",
   "execution_count": 48,
   "metadata": {},
   "outputs": [
    {
     "data": {
      "text/plain": [
       "['ISRIStemmer',\n",
       " 'LancasterStemmer',\n",
       " 'PorterStemmer',\n",
       " 'RSLPStemmer',\n",
       " 'RegexpStemmer',\n",
       " 'SnowballStemmer',\n",
       " 'StemmerI',\n",
       " 'WordNetLemmatizer',\n",
       " '__builtins__',\n",
       " '__doc__',\n",
       " '__file__',\n",
       " '__name__',\n",
       " '__package__',\n",
       " '__path__',\n",
       " 'api',\n",
       " 'isri',\n",
       " 'lancaster',\n",
       " 'porter',\n",
       " 'regexp',\n",
       " 'rslp',\n",
       " 'snowball',\n",
       " 'util',\n",
       " 'wordnet']"
      ]
     },
     "execution_count": 48,
     "metadata": {},
     "output_type": "execute_result"
    }
   ],
   "source": [
    "dir(nltk.stem)"
   ]
  },
  {
   "cell_type": "code",
   "execution_count": 4,
   "metadata": {},
   "outputs": [
    {
     "data": {
      "text/plain": [
       "[(u'Angie', 'male'),\n",
       " (u'Windham', 'male'),\n",
       " (u'Graig', 'male'),\n",
       " (u'Harman', 'male'),\n",
       " (u'Abbey', 'male'),\n",
       " (u'Richardo', 'male'),\n",
       " (u'Olivier', 'male'),\n",
       " (u'Flin', 'female'),\n",
       " (u'Denny', 'male'),\n",
       " (u'Otto', 'female')]"
      ]
     },
     "execution_count": 4,
     "metadata": {},
     "output_type": "execute_result"
    }
   ],
   "source": [
    "from nltk.corpus import names\n",
    "import random\n",
    "import numpy\n",
    "#print (names.words('male.txt'))\n",
    "names = ([(name, 'male') for name in names.words('male.txt')] + [(name, 'female') for name in names.words('male.txt')])\n",
    "\n",
    "\n",
    "random.shuffle(names)\n",
    "#print (names)\n",
    "len(names)\n",
    "names[0:10]"
   ]
  },
  {
   "cell_type": "code",
   "execution_count": 6,
   "metadata": {},
   "outputs": [
    {
     "data": {
      "text/plain": [
       "{'last_letter': 'l'}"
      ]
     },
     "execution_count": 6,
     "metadata": {},
     "output_type": "execute_result"
    }
   ],
   "source": [
    "def gender_feature(words):\n",
    "    return {'last_letter':words[-1]}\n",
    "                                \n",
    "gender_feature('keval')                               \n",
    "    "
   ]
  },
  {
   "cell_type": "code",
   "execution_count": 7,
   "metadata": {},
   "outputs": [
    {
     "name": "stdout",
     "output_type": "stream",
     "text": [
      "5386\n",
      "500\n"
     ]
    }
   ],
   "source": [
    "features_coloum=[(gender_feature(n),g) for (n,g) in names]\n",
    "\n",
    "#features_coloum[:13]\n",
    "\n",
    "trainset,testset=features_coloum[500:],features_coloum[:500]\n",
    "\n",
    "print(len(trainset))\n",
    "print(len(testset))"
   ]
  },
  {
   "cell_type": "code",
   "execution_count": 8,
   "metadata": {},
   "outputs": [
    {
     "name": "stdout",
     "output_type": "stream",
     "text": [
      "Most Informative Features\n",
      "             last_letter = u'j'             male : female =      1.4 : 1.0\n",
      "             last_letter = u'w'             male : female =      1.4 : 1.0\n",
      "             last_letter = u'b'           female : male   =      1.2 : 1.0\n",
      "             last_letter = u'm'           female : male   =      1.1 : 1.0\n",
      "             last_letter = u'u'           female : male   =      1.1 : 1.0\n",
      "             last_letter = u'i'             male : female =      1.1 : 1.0\n",
      "             last_letter = u'r'           female : male   =      1.1 : 1.0\n",
      "             last_letter = u'v'           female : male   =      1.1 : 1.0\n",
      "             last_letter = u'k'             male : female =      1.1 : 1.0\n",
      "             last_letter = u'f'             male : female =      1.0 : 1.0\n"
     ]
    }
   ],
   "source": [
    "from nltk import NaiveBayesClassifier\n",
    "\n",
    "nb_classifer=NaiveBayesClassifier.train(trainset)\n",
    "nb_classifer.classify(gender_feature('roy'))\n",
    "\n",
    "from nltk.classify import accuracy\n",
    "\n",
    "accuracy(nb_classifer,testset)\n",
    "nb_classifer.show_most_informative_features()\n"
   ]
  },
  {
   "cell_type": "code",
   "execution_count": 9,
   "metadata": {},
   "outputs": [
    {
     "name": "stdout",
     "output_type": "stream",
     "text": [
      "  ==> Training (100 iterations)\n",
      "\n",
      "      Iteration    Log Likelihood    Accuracy\n",
      "      ---------------------------------------\n",
      "             1          -0.69315        0.498\n",
      "             2          -0.69262        0.507\n",
      "             3          -0.69262        0.507\n",
      "             4          -0.69262        0.507\n",
      "             5          -0.69262        0.507\n",
      "             6          -0.69262        0.507\n",
      "             7          -0.69262        0.507\n",
      "             8          -0.69262        0.507\n",
      "             9          -0.69262        0.507\n",
      "            10          -0.69262        0.507\n",
      "            11          -0.69262        0.507\n",
      "            12          -0.69262        0.507\n",
      "            13          -0.69262        0.507\n",
      "            14          -0.69262        0.507\n",
      "            15          -0.69262        0.507\n",
      "            16          -0.69262        0.507\n",
      "            17          -0.69262        0.507\n",
      "            18          -0.69262        0.507\n",
      "            19          -0.69262        0.507\n",
      "            20          -0.69262        0.507\n",
      "            21          -0.69262        0.507\n",
      "            22          -0.69262        0.507\n",
      "            23          -0.69262        0.507\n",
      "            24          -0.69262        0.507\n",
      "            25          -0.69262        0.507\n",
      "            26          -0.69262        0.507\n",
      "            27          -0.69262        0.507\n",
      "            28          -0.69262        0.507\n",
      "            29          -0.69262        0.507\n",
      "            30          -0.69262        0.507\n",
      "            31          -0.69262        0.507\n",
      "            32          -0.69262        0.507\n",
      "            33          -0.69262        0.507\n",
      "            34          -0.69262        0.507\n",
      "            35          -0.69262        0.507\n",
      "            36          -0.69262        0.507\n",
      "            37          -0.69262        0.507\n",
      "            38          -0.69262        0.507\n",
      "            39          -0.69262        0.507\n",
      "            40          -0.69262        0.507\n",
      "            41          -0.69262        0.507\n",
      "            42          -0.69262        0.507\n",
      "            43          -0.69262        0.507\n",
      "            44          -0.69262        0.507\n",
      "            45          -0.69262        0.507\n",
      "            46          -0.69262        0.507\n",
      "            47          -0.69262        0.507\n",
      "            48          -0.69262        0.507\n",
      "            49          -0.69262        0.507\n",
      "            50          -0.69262        0.507\n",
      "            51          -0.69262        0.507\n",
      "            52          -0.69262        0.507\n",
      "            53          -0.69262        0.507\n",
      "            54          -0.69262        0.507\n",
      "            55          -0.69262        0.507\n",
      "            56          -0.69262        0.507\n",
      "            57          -0.69262        0.507\n",
      "            58          -0.69262        0.507\n",
      "            59          -0.69262        0.507\n",
      "            60          -0.69262        0.507\n",
      "            61          -0.69262        0.507\n",
      "            62          -0.69262        0.507\n",
      "            63          -0.69262        0.507\n",
      "            64          -0.69262        0.507\n",
      "            65          -0.69262        0.507\n",
      "            66          -0.69262        0.507\n",
      "            67          -0.69262        0.507\n",
      "            68          -0.69262        0.507\n",
      "            69          -0.69262        0.507\n",
      "            70          -0.69262        0.507\n",
      "            71          -0.69262        0.507\n",
      "            72          -0.69262        0.507\n",
      "            73          -0.69262        0.507\n",
      "            74          -0.69262        0.507\n",
      "            75          -0.69262        0.507\n",
      "            76          -0.69262        0.507\n",
      "            77          -0.69262        0.507\n",
      "            78          -0.69262        0.507\n",
      "            79          -0.69262        0.507\n",
      "            80          -0.69262        0.507\n",
      "            81          -0.69262        0.507\n",
      "            82          -0.69262        0.507\n",
      "            83          -0.69262        0.507\n",
      "            84          -0.69262        0.507\n",
      "            85          -0.69262        0.507\n",
      "            86          -0.69262        0.507\n",
      "            87          -0.69262        0.507\n",
      "            88          -0.69262        0.507\n",
      "            89          -0.69262        0.507\n",
      "            90          -0.69262        0.507\n",
      "            91          -0.69262        0.507\n",
      "            92          -0.69262        0.507\n",
      "            93          -0.69262        0.507\n",
      "            94          -0.69262        0.507\n",
      "            95          -0.69262        0.507\n",
      "            96          -0.69262        0.507\n",
      "            97          -0.69262        0.507\n",
      "            98          -0.69262        0.507\n",
      "            99          -0.69262        0.507\n",
      "         Final          -0.69262        0.507\n"
     ]
    }
   ],
   "source": [
    "from nltk import MaxentClassifier\n",
    "me_classifer=MaxentClassifier.train(trainset)\n",
    "\n",
    "\n"
   ]
  },
  {
   "cell_type": "code",
   "execution_count": 10,
   "metadata": {},
   "outputs": [
    {
     "name": "stdout",
     "output_type": "stream",
     "text": [
      "  -0.322 last_letter==u'j' and label is 'female'\n",
      "  -0.273 last_letter==u'w' and label is 'female'\n",
      "   0.263 last_letter==u'j' and label is 'male'\n",
      "   0.229 last_letter==u'w' and label is 'male'\n",
      "  -0.129 last_letter==u'b' and label is 'male'\n",
      "   0.119 last_letter==u'b' and label is 'female'\n",
      "  -0.080 last_letter==u'm' and label is 'male'\n",
      "   0.076 last_letter==u'm' and label is 'female'\n",
      "  -0.064 last_letter==u'u' and label is 'male'\n",
      "   0.061 last_letter==u'u' and label is 'female'\n"
     ]
    }
   ],
   "source": [
    "me_classifer.classify(gender_feature('jiya'))\n",
    "from nltk.classify import accuracy\n",
    "accuracy(me_classifer, testset)\n",
    "\n",
    "me_classifer.show_most_informative_features()"
   ]
  },
  {
   "cell_type": "code",
   "execution_count": 11,
   "metadata": {},
   "outputs": [
    {
     "name": "stdout",
     "output_type": "stream",
     "text": [
      "0.426\n",
      "  ==> Training (100 iterations)\n",
      "\n",
      "      Iteration    Log Likelihood    Accuracy\n",
      "      ---------------------------------------\n",
      "             1          -0.69315        0.498\n",
      "             2          -0.69262        0.507\n",
      "             3          -0.69262        0.507\n",
      "             4          -0.69262        0.507\n",
      "             5          -0.69262        0.507\n",
      "             6          -0.69262        0.507\n",
      "             7          -0.69262        0.507\n",
      "             8          -0.69262        0.507\n",
      "             9          -0.69262        0.507\n",
      "            10          -0.69262        0.507\n",
      "            11          -0.69262        0.507\n",
      "            12          -0.69262        0.507\n",
      "            13          -0.69262        0.507\n",
      "            14          -0.69262        0.507\n",
      "            15          -0.69262        0.507\n",
      "            16          -0.69262        0.507\n",
      "            17          -0.69262        0.507\n",
      "            18          -0.69262        0.507\n",
      "            19          -0.69262        0.507\n",
      "            20          -0.69262        0.507\n",
      "            21          -0.69262        0.507\n",
      "            22          -0.69262        0.507\n",
      "            23          -0.69262        0.507\n",
      "            24          -0.69262        0.507\n",
      "            25          -0.69262        0.507\n",
      "            26          -0.69262        0.507\n",
      "            27          -0.69262        0.507\n",
      "            28          -0.69262        0.507\n",
      "            29          -0.69262        0.507\n",
      "            30          -0.69262        0.507\n",
      "            31          -0.69262        0.507\n",
      "            32          -0.69262        0.507\n",
      "            33          -0.69262        0.507\n",
      "            34          -0.69262        0.507\n",
      "            35          -0.69262        0.507\n",
      "            36          -0.69262        0.507\n",
      "            37          -0.69262        0.507\n",
      "            38          -0.69262        0.507\n",
      "            39          -0.69262        0.507\n",
      "            40          -0.69262        0.507\n",
      "            41          -0.69262        0.507\n",
      "            42          -0.69262        0.507\n",
      "            43          -0.69262        0.507\n",
      "            44          -0.69262        0.507\n",
      "            45          -0.69262        0.507\n",
      "            46          -0.69262        0.507\n",
      "            47          -0.69262        0.507\n",
      "            48          -0.69262        0.507\n",
      "            49          -0.69262        0.507\n",
      "            50          -0.69262        0.507\n",
      "            51          -0.69262        0.507\n",
      "            52          -0.69262        0.507\n",
      "            53          -0.69262        0.507\n",
      "            54          -0.69262        0.507\n",
      "            55          -0.69262        0.507\n",
      "            56          -0.69262        0.507\n",
      "            57          -0.69262        0.507\n",
      "            58          -0.69262        0.507\n",
      "            59          -0.69262        0.507\n",
      "            60          -0.69262        0.507\n",
      "            61          -0.69262        0.507\n",
      "            62          -0.69262        0.507\n",
      "            63          -0.69262        0.507\n",
      "            64          -0.69262        0.507\n",
      "            65          -0.69262        0.507\n",
      "            66          -0.69262        0.507\n",
      "            67          -0.69262        0.507\n",
      "            68          -0.69262        0.507\n",
      "            69          -0.69262        0.507\n",
      "            70          -0.69262        0.507\n",
      "            71          -0.69262        0.507\n",
      "            72          -0.69262        0.507\n",
      "            73          -0.69262        0.507\n",
      "            74          -0.69262        0.507\n",
      "            75          -0.69262        0.507\n",
      "            76          -0.69262        0.507\n",
      "            77          -0.69262        0.507\n",
      "            78          -0.69262        0.507\n",
      "            79          -0.69262        0.507\n",
      "            80          -0.69262        0.507\n",
      "            81          -0.69262        0.507\n",
      "            82          -0.69262        0.507\n",
      "            83          -0.69262        0.507\n",
      "            84          -0.69262        0.507\n",
      "            85          -0.69262        0.507\n",
      "            86          -0.69262        0.507\n",
      "            87          -0.69262        0.507\n",
      "            88          -0.69262        0.507\n",
      "            89          -0.69262        0.507\n",
      "            90          -0.69262        0.507\n",
      "            91          -0.69262        0.507\n",
      "            92          -0.69262        0.507\n",
      "            93          -0.69262        0.507\n",
      "            94          -0.69262        0.507\n",
      "            95          -0.69262        0.507\n",
      "            96          -0.69262        0.507\n",
      "            97          -0.69262        0.507\n",
      "            98          -0.69262        0.507\n",
      "            99          -0.69262        0.507\n",
      "         Final          -0.69262        0.507\n",
      "0.426\n"
     ]
    }
   ],
   "source": [
    "def gender_feature2(words):\n",
    "    features={}\n",
    "    features[\"firstLetter\"]=words[0].lower()\n",
    "    features[\"lastletter\"]=words[-1].lower()\n",
    "    for letter in 'abcdefghijklmnopqrstuvwxyz':\n",
    "        \n",
    "        features[\"count(%s)\" % letter] = name.lower().count(letter)\n",
    "        features[\"has(%s)\" % letter] = (letter in name.lower())\n",
    "    return features\n",
    "\n",
    "\n",
    "\n",
    "#(gender_feature2('alsaska'))\n",
    "from nltk.classify import NaiveBayesClassifier\n",
    "from nltk.classify import  MaxentClassifier\n",
    "featureset2=[(gener_feature2(n,g) for (n,g) in names)]\n",
    "train_set, test_set = featureset2[500:], featureset2[:500]\n",
    "nb2_classifier = NaiveBayesClassifier.train(trainset)\n",
    "print(accuracy(nb2_classifier, testset))\n",
    "me2_classifier = MaxentClassifier.train(trainset)\n",
    "print(accuracy(me2_classifier, testset))\n",
    "#featureset2[:2]"
   ]
  },
  {
   "cell_type": "code",
   "execution_count": 15,
   "metadata": {},
   "outputs": [
    {
     "ename": "NameError",
     "evalue": "name 'featuresets' is not defined",
     "output_type": "error",
     "traceback": [
      "\u001b[0;31m---------------------------------------------------------------------------\u001b[0m",
      "\u001b[0;31mNameError\u001b[0m                                 Traceback (most recent call last)",
      "\u001b[0;32m<ipython-input-15-7849c64fe254>\u001b[0m in \u001b[0;36m<module>\u001b[0;34m()\u001b[0m\n\u001b[1;32m      8\u001b[0m \u001b[0;34m\u001b[0m\u001b[0m\n\u001b[1;32m      9\u001b[0m \u001b[0mgender_features3\u001b[0m\u001b[0;34m(\u001b[0m\u001b[0;34m'Gary'\u001b[0m\u001b[0;34m)\u001b[0m\u001b[0;34m\u001b[0m\u001b[0m\n\u001b[0;32m---> 10\u001b[0;31m \u001b[0mfeaturesets\u001b[0m\u001b[0;34m[\u001b[0m\u001b[0;36m0\u001b[0m\u001b[0;34m]\u001b[0m\u001b[0;34m\u001b[0m\u001b[0m\n\u001b[0m",
      "\u001b[0;31mNameError\u001b[0m: name 'featuresets' is not defined"
     ]
    }
   ],
   "source": [
    "def gender_features3(name):\n",
    "    features = {}\n",
    "    features[\"fl\"] = name[0].lower()\n",
    "    features[\"ll\"] = name[-1].lower()\n",
    "    features[\"fw\"] = name[:2].lower()\n",
    "    features[\"lw\"] = name[-2:].lower()\n",
    "    return features\n",
    "\n",
    "gender_features3('Gary')\n"
   ]
  },
  {
   "cell_type": "code",
   "execution_count": 20,
   "metadata": {},
   "outputs": [
    {
     "name": "stdout",
     "output_type": "stream",
     "text": [
      "  ==> Training (100 iterations)\n",
      "\n",
      "      Iteration    Log Likelihood    Accuracy\n",
      "      ---------------------------------------\n",
      "             1          -0.69315        0.498\n",
      "             2          -0.69128        0.523\n",
      "             3          -0.69001        0.525\n",
      "             4          -0.68910        0.525\n",
      "             5          -0.68842        0.526\n",
      "             6          -0.68789        0.525\n",
      "             7          -0.68748        0.526\n",
      "             8          -0.68715        0.526\n",
      "             9          -0.68689        0.526\n",
      "            10          -0.68667        0.526\n",
      "            11          -0.68649        0.526\n",
      "            12          -0.68634        0.525\n",
      "            13          -0.68621        0.525\n",
      "            14          -0.68610        0.526\n",
      "            15          -0.68600        0.526\n",
      "            16          -0.68592        0.526\n",
      "            17          -0.68585        0.526\n",
      "            18          -0.68579        0.526\n",
      "            19          -0.68573        0.526\n",
      "            20          -0.68568        0.526\n",
      "            21          -0.68564        0.526\n",
      "            22          -0.68559        0.526\n",
      "            23          -0.68556        0.526\n",
      "            24          -0.68552        0.526\n",
      "            25          -0.68549        0.526\n",
      "            26          -0.68547        0.526\n",
      "            27          -0.68544        0.526\n",
      "            28          -0.68542        0.526\n",
      "            29          -0.68539        0.526\n",
      "            30          -0.68537        0.526\n",
      "            31          -0.68535        0.526\n",
      "            32          -0.68533        0.526\n",
      "            33          -0.68532        0.526\n",
      "            34          -0.68530        0.526\n",
      "            35          -0.68529        0.526\n",
      "            36          -0.68527        0.526\n",
      "            37          -0.68526        0.526\n",
      "            38          -0.68525        0.526\n",
      "            39          -0.68523        0.526\n",
      "            40          -0.68522        0.526\n",
      "            41          -0.68521        0.526\n",
      "            42          -0.68520        0.526\n",
      "            43          -0.68519        0.526\n",
      "            44          -0.68518        0.526\n",
      "            45          -0.68517        0.526\n",
      "            46          -0.68516        0.526\n",
      "            47          -0.68515        0.526\n",
      "            48          -0.68515        0.526\n",
      "            49          -0.68514        0.526\n",
      "            50          -0.68513        0.526\n",
      "            51          -0.68512        0.526\n",
      "            52          -0.68512        0.526\n",
      "            53          -0.68511        0.526\n",
      "            54          -0.68510        0.526\n",
      "            55          -0.68510        0.526\n",
      "            56          -0.68509        0.526\n",
      "            57          -0.68508        0.526\n",
      "            58          -0.68508        0.526\n",
      "            59          -0.68507        0.526\n",
      "            60          -0.68507        0.526\n",
      "            61          -0.68506        0.526\n",
      "            62          -0.68506        0.526\n",
      "            63          -0.68505        0.526\n",
      "            64          -0.68505        0.526\n",
      "            65          -0.68504        0.526\n",
      "            66          -0.68504        0.526\n",
      "            67          -0.68504        0.526\n",
      "            68          -0.68503        0.526\n",
      "            69          -0.68503        0.526\n",
      "            70          -0.68502        0.526\n",
      "            71          -0.68502        0.526\n",
      "            72          -0.68502        0.526\n",
      "            73          -0.68501        0.526\n",
      "            74          -0.68501        0.526\n",
      "            75          -0.68500        0.526\n",
      "            76          -0.68500        0.526\n",
      "            77          -0.68500        0.526\n",
      "            78          -0.68499        0.526\n",
      "            79          -0.68499        0.526\n",
      "            80          -0.68499        0.526\n",
      "            81          -0.68499        0.526\n",
      "            82          -0.68498        0.526\n",
      "            83          -0.68498        0.526\n",
      "            84          -0.68498        0.526\n",
      "            85          -0.68497        0.526\n",
      "            86          -0.68497        0.526\n",
      "            87          -0.68497        0.526\n",
      "            88          -0.68497        0.526\n",
      "            89          -0.68496        0.526\n",
      "            90          -0.68496        0.526\n",
      "            91          -0.68496        0.526\n",
      "            92          -0.68496        0.526\n",
      "            93          -0.68495        0.526\n",
      "            94          -0.68495        0.526\n",
      "            95          -0.68495        0.526\n",
      "            96          -0.68495        0.526\n",
      "            97          -0.68495        0.526\n",
      "            98          -0.68494        0.526\n",
      "            99          -0.68494        0.526\n",
      "         Final          -0.68494        0.526\n"
     ]
    },
    {
     "data": {
      "text/plain": [
       "0.218"
      ]
     },
     "execution_count": 20,
     "metadata": {},
     "output_type": "execute_result"
    }
   ],
   "source": [
    "featuresets3 = [(gender_features3(n), g) for (n, g) in names]\n",
    "featuresets3[0]\n",
    "train_set, test_set = featuresets3[500:], featuresets3[:500]\n",
    "nb3_classifier = NaiveBayesClassifier.train(train_set)\n",
    "accuracy(nb3_classifier, test_set)\n",
    "me3_classifier = MaxentClassifier.train(train_set)\n",
    "accuracy(me3_classifier, test_set)"
   ]
  }
 ],
 "metadata": {
  "kernelspec": {
   "display_name": "Python (myenv)",
   "language": "python",
   "name": "myenv"
  },
  "language_info": {
   "codemirror_mode": {
    "name": "ipython",
    "version": 2
   },
   "file_extension": ".py",
   "mimetype": "text/x-python",
   "name": "python",
   "nbconvert_exporter": "python",
   "pygments_lexer": "ipython2",
   "version": "2.7.12"
  }
 },
 "nbformat": 4,
 "nbformat_minor": 2
}
